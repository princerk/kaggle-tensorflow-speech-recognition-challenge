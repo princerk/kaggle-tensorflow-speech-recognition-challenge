{
 "cells": [
  {
   "cell_type": "code",
   "execution_count": 99,
   "metadata": {},
   "outputs": [],
   "source": [
    "from __future__ import print_function\n",
    "import time\n",
    "from sklearn.utils import class_weight\n",
    "import numpy as np # linear algebra\n",
    "import keras\n",
    "import math\n",
    "from keras.models import Sequential, load_model\n",
    "from keras.layers import Dense, Dropout, Flatten\n",
    "from keras.callbacks import ModelCheckpoint, EarlyStopping\n",
    "from keras.layers import Conv1D, MaxPooling1D, Conv2D, MaxPooling2D, Convolution2D, Activation\n",
    "from keras import backend as K\n",
    "import numpy as np\n",
    "from scipy import signal\n",
    "import os\n",
    "import random\n",
    "from scipy.io import wavfile\n",
    "from subprocess import check_output\n",
    "import matplotlib.pyplot as plt\n",
    "import librosa\n",
    "import acoustics\n",
    "import gc"
   ]
  },
  {
   "cell_type": "code",
   "execution_count": 100,
   "metadata": {},
   "outputs": [],
   "source": [
    "import time\n",
    "import numpy as np\n",
    "import librosa\n",
    "import os\n",
    "import random\n",
    "\n",
    "sr = 16000\n",
    "unknowns = 'bed bird cat dog eight five four happy house marvin nine one seven sheila six three tree two wow zero'.split()\n",
    "knowns = 'yes no up down left right on off stop go'.split()\n",
    "silence = 'silence'.split()\n",
    "labels = knowns + silence + ['unknown'] \n",
    "num_classes = len(labels)\n",
    "\n",
    "def timer():\n",
    "    time_start = [int(time.time())]\n",
    "    time_start_overall = [int(time.time())]\n",
    "\n",
    "    def time_taken():\n",
    "        time_now = int(time.time())\n",
    "        om, os = divmod(time_now - time_start_overall[0], 60)\n",
    "        m, s = divmod(time_now - time_start[0], 60)\n",
    "        time_start[0] = time_now\n",
    "        return ' overall_time: ' + str(om) + 'm' + str(os) + 's' + ' time_from_previous_call: ' + str(m) + 'm' + str(s) + 's'\n",
    "    return time_taken\n",
    "time_taken = timer()\n",
    "\n"
   ]
  },
  {
   "cell_type": "code",
   "execution_count": 101,
   "metadata": {
    "scrolled": true
   },
   "outputs": [
    {
     "name": "stdout",
     "output_type": "stream",
     "text": [
      "['yes', 'no', 'up', 'down', 'left', 'right', 'on', 'off', 'stop', 'go', 'silence', 'unknown']\n"
     ]
    }
   ],
   "source": [
    "print(labels)"
   ]
  },
  {
   "cell_type": "code",
   "execution_count": null,
   "metadata": {},
   "outputs": [],
   "source": [
    "LABEL_TO_FILE_NAMES = {}\n",
    "for label in knowns:\n",
    "    for filename in os.listdir('../train/audio/' + label):\n",
    "        if not filename.endswith('.wav'):\n",
    "            continue\n",
    "        LABEL_TO_FILE_NAMES.setdefault(label, [])\n",
    "        LABEL_TO_FILE_NAMES[label].append('../train/audio/' + label + '/' + filename)\n",
    "\n",
    "for label in unknowns:\n",
    "    for filename in os.listdir('../train/audio/' + label):\n",
    "        if not filename.endswith('.wav'):\n",
    "            continue\n",
    "        LABEL_TO_FILE_NAMES.setdefault('unknown', [])\n",
    "        LABEL_TO_FILE_NAMES['unknown'].append('../train/audio/' + label + '/' + filename)\n",
    "\n",
    "\n",
    "with open('test-file-pseudo-label.csv') as f:\n",
    "    for line in f:\n",
    "        line = line.strip()\n",
    "        s = line.split(',')\n",
    "        LABEL_TO_FILE_NAMES.setdefault(s[1], [])\n",
    "        LABEL_TO_FILE_NAMES[s[1]].append(s[0])\n",
    "        \n",
    "\n"
   ]
  },
  {
   "cell_type": "code",
   "execution_count": null,
   "metadata": {},
   "outputs": [],
   "source": [
    "f1 = open('validation.csv', 'w')\n",
    "f2 = open('train.csv', 'w')\n",
    "\n",
    "for label, filenames in LABEL_TO_FILE_NAMES.items():\n",
    "    np.random.shuffle(filenames)\n",
    "    print(label, len(filenames))\n",
    "    numv = len(filenames) // 10\n",
    "    print(numv)\n",
    "    for i in range(len(filenames)):\n",
    "        if i < numv:\n",
    "         f1.write(filenames[i] + ',' + label + '\\n')\n",
    "        VALIDATION_LABEL_TO_FILE_NAMES[label] = filenames[0:4000]\n",
    "        TRAIN_LABEL_TO_FILE_NAMES[label] = filenames[4000:]\n",
    "    else:\n",
    "        VALIDATION_LABEL_TO_FILE_NAMES[label] = filenames[0:400]\n",
    "        TRAIN_LABEL_TO_FILE_NAMES[label] = filenames[400:]"
   ]
  }
 ],
 "metadata": {
  "kernelspec": {
   "display_name": "Python 3",
   "language": "python",
   "name": "python3"
  },
  "language_info": {
   "codemirror_mode": {
    "name": "ipython",
    "version": 3
   },
   "file_extension": ".py",
   "mimetype": "text/x-python",
   "name": "python",
   "nbconvert_exporter": "python",
   "pygments_lexer": "ipython3",
   "version": "3.5.0"
  }
 },
 "nbformat": 4,
 "nbformat_minor": 2
}
